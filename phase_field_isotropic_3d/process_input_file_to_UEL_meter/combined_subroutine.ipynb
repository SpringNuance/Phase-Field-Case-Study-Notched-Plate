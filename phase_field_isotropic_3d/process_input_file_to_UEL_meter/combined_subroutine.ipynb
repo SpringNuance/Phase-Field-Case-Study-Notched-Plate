{
 "cells": [
  {
   "cell_type": "code",
   "execution_count": 6,
   "metadata": {},
   "outputs": [
    {
     "name": "stdout",
     "output_type": "stream",
     "text": [
      "All files have been successfully concatenated into: phase_field_combined.f90\n"
     ]
    }
   ],
   "source": [
    "# List of Fortran file names in correct order\n",
    "file_names = ['srt_part0_description.f90',\n",
    "              'srt_part1_precision.f90', \n",
    "              'srt_part2_common_block.f90',\n",
    "              'srt_part3_uexternaldb.f90',\n",
    "              'srt_part4_sig_H_grad.f90',\n",
    "              'srt_part5_uel.f90',\n",
    "              'srt_part6_umat_von_mises.f90',\n",
    "              'srt_part7_uhard.f90',\n",
    "              'srt_part8_umatht_diffusion.f90',\n",
    "              'srt_part9_uvarm.f90',\n",
    "              'srt_part10_umat_visual.f90',\n",
    "              ]  \n",
    "\n",
    "# Define the output file\n",
    "output_file = 'phase_field_combined.f90'\n",
    "\n",
    "# Open the output file for writing\n",
    "with open(output_file, 'w') as outfile:\n",
    "    # Loop through each file in the provided list\n",
    "    for filename in file_names:\n",
    "        # Open and read the contents of each .f90 file\n",
    "        with open(filename, 'r') as infile:\n",
    "            # Write the contents to the output file\n",
    "            outfile.write(infile.read() + '\\n\\n')\n",
    "\n",
    "print(\"All files have been successfully concatenated into:\", output_file)\n"
   ]
  }
 ],
 "metadata": {
  "kernelspec": {
   "display_name": "Python 3",
   "language": "python",
   "name": "python3"
  },
  "language_info": {
   "codemirror_mode": {
    "name": "ipython",
    "version": 3
   },
   "file_extension": ".py",
   "mimetype": "text/x-python",
   "name": "python",
   "nbconvert_exporter": "python",
   "pygments_lexer": "ipython3",
   "version": "3.11.9"
  }
 },
 "nbformat": 4,
 "nbformat_minor": 2
}
