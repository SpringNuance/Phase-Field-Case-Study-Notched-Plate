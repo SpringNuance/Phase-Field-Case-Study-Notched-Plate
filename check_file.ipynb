{
 "cells": [
  {
   "cell_type": "code",
   "execution_count": 2,
   "metadata": {},
   "outputs": [
    {
     "name": "stdout",
     "output_type": "stream",
     "text": [
      "Scanning directory: c:\\LocalUserData\\User-data\\nguyenb5\\Phase-Field-Case-Study-Notched-Plate for files larger than 50 MB...\n",
      "\n",
      "No files larger than 50 MB found.\n"
     ]
    }
   ],
   "source": [
    "import os\n",
    "\n",
    "def find_large_files(directory=\".\", size_limit=50 * 1024 * 1024):\n",
    "    \"\"\"\n",
    "    Recursively finds all files larger than the specified size limit in the given directory.\n",
    "\n",
    "    :param directory: The root directory to start searching (default is current directory).\n",
    "    :param size_limit: The size limit in bytes (default is 50 MB).\n",
    "    \"\"\"\n",
    "    large_files = []\n",
    "\n",
    "    for root, dirs, files in os.walk(directory):\n",
    "        for file in files:\n",
    "            file_path = os.path.join(root, file)\n",
    "            try:\n",
    "                if os.path.isfile(file_path):\n",
    "                    file_size = os.path.getsize(file_path)\n",
    "                    if file_size > size_limit:\n",
    "                        large_files.append((file_path, file_size))\n",
    "            except (PermissionError, FileNotFoundError) as e:\n",
    "                print(f\"Skipping file {file_path}: {e}\")\n",
    "\n",
    "    return large_files\n",
    "\n",
    "def main():\n",
    "    directory_to_scan = os.getcwd()  # Current directory\n",
    "    size_limit_mb = 50\n",
    "    size_limit_bytes = size_limit_mb * 1024 * 1024\n",
    "\n",
    "    print(f\"Scanning directory: {directory_to_scan} for files larger than {size_limit_mb} MB...\\n\")\n",
    "    large_files = find_large_files(directory=directory_to_scan, size_limit=size_limit_bytes)\n",
    "\n",
    "    if large_files:\n",
    "        print(\"Found the following large files:\")\n",
    "        for file_path, file_size in large_files:\n",
    "            print(f\"{file_path} - {file_size / (1024 * 1024):.2f} MB\")\n",
    "    else:\n",
    "        print(\"No files larger than 50 MB found.\")\n",
    "\n",
    "if __name__ == \"__main__\":\n",
    "    main()\n"
   ]
  }
 ],
 "metadata": {
  "kernelspec": {
   "display_name": "Python 3",
   "language": "python",
   "name": "python3"
  },
  "language_info": {
   "codemirror_mode": {
    "name": "ipython",
    "version": 3
   },
   "file_extension": ".py",
   "mimetype": "text/x-python",
   "name": "python",
   "nbconvert_exporter": "python",
   "pygments_lexer": "ipython3",
   "version": "3.12.8"
  }
 },
 "nbformat": 4,
 "nbformat_minor": 2
}
